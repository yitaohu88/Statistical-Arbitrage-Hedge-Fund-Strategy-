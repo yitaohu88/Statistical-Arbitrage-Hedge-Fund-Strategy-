{
 "cells": [
  {
   "cell_type": "markdown",
   "metadata": {},
   "source": [
    "## HW3\n",
    "### YiTao Hu, Jeff Li,Feiwen Liang, Susu Zhu,Jui-Yu Lan"
   ]
  },
  {
   "cell_type": "code",
   "execution_count": 1,
   "metadata": {},
   "outputs": [],
   "source": [
    "import pandas as pd\n",
    "import numpy as np"
   ]
  },
  {
   "cell_type": "code",
   "execution_count": 2,
   "metadata": {},
   "outputs": [],
   "source": [
    "import pandas_market_calendars as mkt_cal"
   ]
  },
  {
   "cell_type": "code",
   "execution_count": 3,
   "metadata": {},
   "outputs": [],
   "source": [
    "#try to add a time index for the data\n",
    "nyse = mkt_cal.get_calendar('NYSE')\n",
    "#we have 6 observations less than the trading days within this time period, so we will start 6 trading days later\n",
    "trading_days=nyse.valid_days(start_date='1997-01-01', end_date='2002-12-31')[6:]"
   ]
  },
  {
   "cell_type": "markdown",
   "metadata": {},
   "source": [
    "### Estimation of Cov matrix"
   ]
  },
  {
   "cell_type": "markdown",
   "metadata": {},
   "source": [
    "ret_act is computed by taking diff(log(tri*isactivenow))"
   ]
  },
  {
   "cell_type": "code",
   "execution_count": 4,
   "metadata": {},
   "outputs": [],
   "source": [
    "ret_act=pd.read_csv('ret_act.csv')\n",
    "ret_act.index=trading_days\n",
    "#fill na returns by 0 to compute the sample cov matrix\n",
    "ret_act=ret_act.fillna(0)"
   ]
  },
  {
   "cell_type": "code",
   "execution_count": 5,
   "metadata": {},
   "outputs": [],
   "source": [
    "#function to compute shrinkage coeff\n",
    "def comptShrinkCov(ret_series):\n",
    "    S=ret_series.apply(lambda x: np.array(x).reshape(566,1)@np.array(x).reshape(1,566),axis=1).mean()\n",
    "    shrink_target=np.eye(566)*S.diagonal().mean()\n",
    "    omega_sq=ret_series.apply(lambda x: ((np.array(x).reshape(566,1)@np.array(x).reshape(1,566)-S)**2).sum(),axis=1).sum()/(252*251)\n",
    "    Cross_sec_var=((S-shrink_target)**2).sum()\n",
    "    beta_hat=1-omega_sq/Cross_sec_var\n",
    "    if beta_hat<0:\n",
    "        beta_hat=0\n",
    "    Shrinked_Cov=(1-beta_hat)*shrink_target+beta_hat*S\n",
    "    return beta_hat,Shrinked_Cov"
   ]
  },
  {
   "cell_type": "code",
   "execution_count": 6,
   "metadata": {},
   "outputs": [],
   "source": [
    "#estimate the shrinkage parameter monthly or every 21 trading days, with one year or 252 trading days return data\n",
    "n_periods=ret_act.shape[0]\n",
    "estimation_periods=252\n",
    "wins=[(start,start+estimation_periods) for start in range(0,n_periods-estimation_periods,21)]\n",
    "beta_hats=[comptShrinkCov(ret_act.iloc[win[0]:win[1]])[0] for win in wins]\n",
    "Shirnk_Cov=np.array([comptShrinkCov(ret_act.iloc[win[0]:win[1]])[1] for win in wins])"
   ]
  },
  {
   "cell_type": "code",
   "execution_count": 7,
   "metadata": {},
   "outputs": [],
   "source": [
    "beta_hats=pd.DataFrame(beta_hats,index=ret_act.iloc[range(estimation_periods,n_periods,21)].index)"
   ]
  },
  {
   "cell_type": "code",
   "execution_count": 8,
   "metadata": {},
   "outputs": [],
   "source": [
    "beta_hats.to_csv('./shrink.csv')"
   ]
  },
  {
   "cell_type": "markdown",
   "metadata": {},
   "source": [
    " ### signal"
   ]
  },
  {
   "cell_type": "markdown",
   "metadata": {},
   "source": [
    "#### reversal signal"
   ]
  },
  {
   "cell_type": "code",
   "execution_count": 9,
   "metadata": {},
   "outputs": [],
   "source": [
    "#set Triangular weights\n",
    "Tri_weights=np.array([1/11-1/231*j for j in range(21)])[::-1]\n",
    "Tri_weights=np.repeat(Tri_weights,566).reshape(21,566)"
   ]
  },
  {
   "cell_type": "code",
   "execution_count": 10,
   "metadata": {},
   "outputs": [],
   "source": [
    "#compute reversal alpha\n",
    "n_periods=ret_act.shape[0]\n",
    "estimation_periods=21\n",
    "wins=[(start,start+estimation_periods) for start in range(0,n_periods-estimation_periods,1)]\n",
    "alpharev=[-(ret_act.iloc[win[0]:win[1]]*Tri_weights).sum(axis=0) for win in wins]"
   ]
  },
  {
   "cell_type": "code",
   "execution_count": 11,
   "metadata": {},
   "outputs": [],
   "source": [
    "alpharev=pd.DataFrame(alpharev, index=ret_act.iloc[estimation_periods:].index, columns=ret_act.columns)"
   ]
  },
  {
   "cell_type": "code",
   "execution_count": 12,
   "metadata": {},
   "outputs": [],
   "source": [
    "def AlphaDecay(signal,estimation_periods,decay_weights):\n",
    "    n_periods=ret_act.shape[0]\n",
    "    wins=[(start,start+estimation_periods) for start in range(0,n_periods-estimation_periods,1)]\n",
    "    alpha=[(signal.iloc[win[0]:win[1]]*decay_weights).sum(axis=0) for win in wins]\n",
    "    alpha=pd.DataFrame(alpha, index=signal.iloc[estimation_periods:].index, columns=signal.columns)\n",
    "    return alpha"
   ]
  },
  {
   "cell_type": "code",
   "execution_count": 13,
   "metadata": {},
   "outputs": [],
   "source": [
    "def signal_standardize(alpha,Winsorize=True):\n",
    "    alpha=alpha.apply(lambda x: (x-alpha.mean(axis=1))/alpha.std(axis=1),axis=0)\n",
    "    if Winsorize:\n",
    "        alpha[alpha<-3]=-3\n",
    "        alpha[alpha>3]=3\n",
    "    return alpha"
   ]
  },
  {
   "cell_type": "code",
   "execution_count": 14,
   "metadata": {},
   "outputs": [],
   "source": [
    "#normalize the alpha\n",
    "alpharev=signal_standardize(alpharev)"
   ]
  },
  {
   "cell_type": "code",
   "execution_count": 15,
   "metadata": {},
   "outputs": [],
   "source": [
    "alpharev.to_csv('./alpharev.csv')"
   ]
  },
  {
   "cell_type": "markdown",
   "metadata": {},
   "source": [
    "#### SHORT-TERM PROCYCLICAL signal"
   ]
  },
  {
   "cell_type": "code",
   "execution_count": 16,
   "metadata": {},
   "outputs": [],
   "source": [
    "rec=pd.read_csv('rec.csv')\n",
    "rec=rec[1:]\n",
    "rec.index=trading_days"
   ]
  },
  {
   "cell_type": "code",
   "execution_count": 17,
   "metadata": {},
   "outputs": [],
   "source": [
    "#create triangular weights\n",
    "Tri_weights=np.array([1/23-1/1035*j for j in range(45)])[::-1]\n",
    "Tri_weights=np.repeat(Tri_weights,566).reshape(45,566)"
   ]
  },
  {
   "cell_type": "code",
   "execution_count": 18,
   "metadata": {},
   "outputs": [],
   "source": [
    "alpharec=AlphaDecay(rec,45,Tri_weights)\n",
    "alpharec=signal_standardize(alpharec)\n",
    "alpharec.to_csv('./alpharec.csv')"
   ]
  },
  {
   "cell_type": "markdown",
   "metadata": {},
   "source": [
    "#### LONG-TERM CONTRARIAN signal"
   ]
  },
  {
   "cell_type": "code",
   "execution_count": 19,
   "metadata": {},
   "outputs": [],
   "source": [
    "mtbv=pd.read_csv('mtbv.csv')\n",
    "mtbv=mtbv[1:]\n",
    "mtbv.index=trading_days"
   ]
  },
  {
   "cell_type": "code",
   "execution_count": 20,
   "metadata": {},
   "outputs": [],
   "source": [
    "alphaval=signal_standardize(mtbv)\n",
    "#for stocks with no btm ratio, we set its alphaval to 0, so we do not take any position \n",
    "alphaval=alphaval.fillna(0)\n",
    "alphaval.to_csv('./alphaval.csv')"
   ]
  },
  {
   "cell_type": "markdown",
   "metadata": {},
   "source": [
    "#### LONG-TERM CONTRARIAN signal"
   ]
  },
  {
   "cell_type": "code",
   "execution_count": 21,
   "metadata": {},
   "outputs": [],
   "source": [
    "##setting decay weights: the most recent month would be zero,equal weights other 11 months\n",
    "Decay_weights=np.ones(252)/(252-21)\n",
    "Decay_weights[252-21:]=0\n",
    "Decay_weights=np.repeat(Decay_weights,566).reshape(252,566)"
   ]
  },
  {
   "cell_type": "code",
   "execution_count": 22,
   "metadata": {},
   "outputs": [],
   "source": [
    "alphamom=AlphaDecay(ret_act,252,Decay_weights)"
   ]
  },
  {
   "cell_type": "code",
   "execution_count": 23,
   "metadata": {},
   "outputs": [],
   "source": [
    "alphamom=signal_standardize(alphamom)"
   ]
  },
  {
   "cell_type": "code",
   "execution_count": 24,
   "metadata": {},
   "outputs": [],
   "source": [
    "alphamom.to_csv('./alphamom.csv')"
   ]
  },
  {
   "cell_type": "markdown",
   "metadata": {},
   "source": [
    "#### Blend the alphas"
   ]
  },
  {
   "cell_type": "code",
   "execution_count": 25,
   "metadata": {},
   "outputs": [],
   "source": [
    "alphablend=alpharev.reindex_like(alphamom)*0.5+alpharec.reindex_like(alphamom)*0.25+alphaval.reindex_like(alphamom)*0.15+alphamom*0.10\n",
    "alphablend=signal_standardize(alphablend)\n",
    "alphablend.to_csv('./alphablend.csv')"
   ]
  },
  {
   "cell_type": "markdown",
   "metadata": {},
   "source": [
    "### Optimizer"
   ]
  },
  {
   "cell_type": "code",
   "execution_count": 26,
   "metadata": {},
   "outputs": [],
   "source": [
    "#import tcost\n",
    "tcost=pd.read_csv('tcost.csv')\n",
    "tcost=tcost[1:]\n",
    "tcost.index=trading_days\n",
    "#shift the t cost for estimating purpose\n",
    "tcost=tcost.shift(1)"
   ]
  },
  {
   "cell_type": "code",
   "execution_count": 27,
   "metadata": {},
   "outputs": [],
   "source": [
    "#fill na t costs by the cross-sectional mean\n",
    "tcost=tcost.reindex_like(alphamom).apply(lambda x: x.fillna(x.mean()) , axis=1)"
   ]
  },
  {
   "cell_type": "code",
   "execution_count": 28,
   "metadata": {},
   "outputs": [],
   "source": [
    "#flatten the Cov mat\n",
    "Shirnk_Cov=pd.DataFrame(Shirnk_Cov.reshape(60,566*566),index=beta_hats.index)\n",
    "#make the freq to daily\n",
    "Shirnk_Cov=Shirnk_Cov.reindex(alphamom.index).fillna(method='ffill')"
   ]
  },
  {
   "cell_type": "markdown",
   "metadata": {},
   "source": [
    "##### create a cap weights mkt return to compute mkt beta for each stock"
   ]
  },
  {
   "cell_type": "code",
   "execution_count": 29,
   "metadata": {},
   "outputs": [],
   "source": [
    "#create a cap weights mkt return \n",
    "cap=pd.read_csv('cap.csv')\n",
    "cap.index=nyse.valid_days(start_date='1997-01-01', end_date='2002-12-31')[5:]"
   ]
  },
  {
   "cell_type": "code",
   "execution_count": 30,
   "metadata": {},
   "outputs": [],
   "source": [
    "#we fill na by 0, because at that time the stock is not tradable\n",
    "cap=cap.shift(1).fillna(0)[1:]\n",
    "#turn cap into cap weights\n",
    "cap=cap.apply(lambda x: x/x.sum(),axis=1)\n",
    "#compute mkt returns\n",
    "mkt_rt=(cap*ret_act).sum(axis=1)"
   ]
  },
  {
   "cell_type": "code",
   "execution_count": 31,
   "metadata": {},
   "outputs": [],
   "source": [
    "#build the design matrix \n",
    "X=pd.concat([pd.Series(np.repeat(1,len(mkt_rt)),index=mkt_rt.index),mkt_rt],axis=1)"
   ]
  },
  {
   "cell_type": "code",
   "execution_count": 32,
   "metadata": {},
   "outputs": [],
   "source": [
    "#estimate the betas of each stock with one year estimation period\n",
    "n_periods=ret_act.shape[0]\n",
    "estimation_periods=252\n",
    "wins=[(start,start+estimation_periods) for start in range(0,n_periods-estimation_periods)]\n",
    "betas=[]\n",
    "for win in wins:\n",
    "    beta=np.linalg.inv(X.iloc[win[0]:win[1]].T@X.iloc[win[0]:win[1]])@X.iloc[win[0]:win[1]].T@ret_act.iloc[win[0]:win[1]]\n",
    "    betas.append(beta.iloc[1].values)\n",
    "betas=pd.DataFrame(np.array(betas),index=ret_act.iloc[estimation_periods:].index)"
   ]
  },
  {
   "cell_type": "markdown",
   "metadata": {},
   "source": [
    "#### Industry and Country One-Hot encoding"
   ]
  },
  {
   "cell_type": "markdown",
   "metadata": {},
   "source": [
    "ind_country are a 566 $\\times$ 2 dataframe get from R list allStocks where each row represents a stock and the two column is the industry and industry of the stock"
   ]
  },
  {
   "cell_type": "code",
   "execution_count": 33,
   "metadata": {},
   "outputs": [],
   "source": [
    "ind_country=pd.read_csv('inds_country.csv')\n",
    "ind_country=ind_country.fillna('Others')"
   ]
  },
  {
   "cell_type": "code",
   "execution_count": 34,
   "metadata": {},
   "outputs": [],
   "source": [
    "#Perform one-hot encoding on the industry and country for each stock to create the dummy matrix\n",
    "dum_inds = pd.get_dummies(ind_country, columns=[\"inds\"]).iloc[:,1:]\n",
    "dum_country= pd.get_dummies(ind_country, columns=[\"country\"]).iloc[:,1:]"
   ]
  },
  {
   "cell_type": "code",
   "execution_count": 35,
   "metadata": {},
   "outputs": [],
   "source": [
    "#import trading volume\n",
    "volume=pd.read_csv('volume.csv')\n",
    "volume=volume[1:]\n",
    "volume.index=trading_days\n",
    "volume=volume.shift(1)\n",
    "#fill na with 0 because these stocks are not tradable\n",
    "volume=volume.reindex_like(alphamom).fillna(0)"
   ]
  },
  {
   "cell_type": "markdown",
   "metadata": {},
   "source": [
    "Build the constraints"
   ]
  },
  {
   "cell_type": "markdown",
   "metadata": {},
   "source": [
    "Quatratic Solver"
   ]
  },
  {
   "cell_type": "code",
   "execution_count": 36,
   "metadata": {},
   "outputs": [],
   "source": [
    "from cvxopt import matrix, solvers"
   ]
  },
  {
   "cell_type": "markdown",
   "metadata": {},
   "source": [
    "solve.qp function in cvxopt has the same framework as quadprog's solve.qp in R. Use cvxopt to keep everything in python"
   ]
  },
  {
   "cell_type": "code",
   "execution_count": 37,
   "metadata": {},
   "outputs": [],
   "source": [
    "def getTrades(alpha,Cov,w,adv,Tcost,beta,dum_country,dum_inds,lamda=1,mu=1):\n",
    "    #pass in and adjust inputs args\n",
    "    alpha=alpha.values\n",
    "    Cov=Cov.values.reshape(566,566)\n",
    "    w=w.values\n",
    "    adv=adv.values\n",
    "    Tcost=Tcost.values\n",
    "    beta=beta.values.reshape(566,1)\n",
    "    dum_country=dum_country.values\n",
    "    dum_inds=dum_inds.values\n",
    "    LongBook=50000000\n",
    "    ind_limit=2.5*LongBook/40\n",
    "    country_limit=2.5*LongBook/18\n",
    "\n",
    "    \n",
    "    #define parameters in quadratic problem\n",
    "    H=2*mu*np.concatenate((np.concatenate((Cov,-Cov),axis=1),np.concatenate((-Cov,Cov),axis=1)),axis=0)\n",
    "    g=np.concatenate((2*mu*Cov@w-alpha+lamda*Tcost,-2*mu*Cov@w+alpha+lamda*Tcost))\n",
    "    long_ind=np.concatenate((dum_inds.T,-dum_inds.T),axis=1)\n",
    "    short_ind=np.concatenate((-dum_inds.T,dum_inds.T),axis=1)\n",
    "    long_country=np.concatenate((dum_country.T,-dum_country.T),axis=1)\n",
    "    short_country=np.concatenate((-dum_country.T,dum_country.T),axis=1)\n",
    "    A=np.concatenate((long_ind,short_ind,long_country,short_country),axis=0)\n",
    "    b=np.concatenate((ind_limit-dum_inds.T@w,ind_limit+dum_inds.T@w,country_limit-dum_country.T@w,country_limit+dum_country.T@w))\n",
    "    C=np.concatenate((beta.T,-beta.T),axis=1)\n",
    "    d=beta.T@w\n",
    "    #trade and position size constraint \n",
    "    theta=np.minimum(15000000*0.015,150000)\n",
    "    pi=np.minimum(10*theta,0.025*np.sum(LongBook))\n",
    "    gammas=np.maximum(w-theta,-pi)\n",
    "    deltas=np.minimum(w+theta,pi)\n",
    "    LB=np.zeros(2*566)\n",
    "    UB=np.concatenate((np.maximum(0,np.minimum(theta,pi-w)),np.maximum(0,np.minimum(theta,pi+w))))\n",
    "    #impose boundaies on the ineq constraints\n",
    "    A=np.concatenate((A,-np.eye(566*2,566*2),np.eye(566*2,566*2)),axis=0)\n",
    "    b=np.concatenate((b,LB,UB),axis=0)\n",
    "    \n",
    "    H=matrix(H)\n",
    "    g=matrix(g)\n",
    "    A=A.astype(np.double)\n",
    "    A=matrix(A)\n",
    "    b=matrix(b)\n",
    "    C=matrix(C)\n",
    "    d=matrix(d)\n",
    "    LB=matrix(LB)\n",
    "    UB=matrix(UB)\n",
    "    sol=solvers.qp(H,g,A,b,C,d)\n",
    "    trades=np.array(sol['x'])\n",
    "    trades=trades[:566]-trades[566:]\n",
    "    trades=trades.reshape(566)\n",
    "    return trades"
   ]
  },
  {
   "cell_type": "code",
   "execution_count": 38,
   "metadata": {},
   "outputs": [],
   "source": [
    "#we not want the progress info\n",
    "solvers.options['show_progress']=False"
   ]
  },
  {
   "cell_type": "code",
   "execution_count": 39,
   "metadata": {},
   "outputs": [],
   "source": [
    "from tqdm import tqdm"
   ]
  },
  {
   "cell_type": "code",
   "execution_count": 40,
   "metadata": {},
   "outputs": [
    {
     "name": "stderr",
     "output_type": "stream",
     "text": [
      "100%|██████████| 1251/1251 [08:31<00:00,  2.44it/s]\n"
     ]
    }
   ],
   "source": [
    "#compute the trades over backtest time\n",
    "w=pd.DataFrame(0,index=alphablend.index,columns=alphablend.columns)\n",
    "trades_sr=pd.DataFrame(0,index=alphablend.index,columns=alphablend.columns)\n",
    "T=len(alphablend.index)\n",
    "for t in tqdm(range(T)):\n",
    "    try:\n",
    "        trades_sr.iloc[t]=getTrades(alpha=alphablend.iloc[t],\n",
    "                                    Cov=Shirnk_Cov.iloc[t],\n",
    "                                    w=w.iloc[t],\n",
    "                                    adv=volume.iloc[t],\n",
    "                                    Tcost=tcost.iloc[t],\n",
    "                                    beta=betas.iloc[t],\n",
    "                                   dum_country=dum_country,\n",
    "                                   dum_inds=dum_inds);\n",
    "        #update positions\n",
    "        if t<(T-1):\n",
    "            w.iloc[t+1]=w.iloc[t]+trades_sr.iloc[t]\n",
    "    except:\n",
    "        #we almost do not trade if the optimizer returns error,but change w a little bit to get the gradient\n",
    "        trades_sr.iloc[t]= trades_sr.iloc[t-1]\n",
    "        if t<(T-1):\n",
    "            w.iloc[t+1]=w.iloc[t]+trades_sr.iloc[t]"
   ]
  },
  {
   "cell_type": "code",
   "execution_count": 47,
   "metadata": {},
   "outputs": [],
   "source": [
    "#filter trades by isactivenow, we cannot trade stocks that is not active\n",
    "isactivenow=pd.read_csv('isactivenow.csv')\n",
    "isactivenow=isactivenow[1:]\n",
    "isactivenow.index=trading_days\n",
    "isactivenow=isactivenow.reindex_like(alphablend)\n",
    "trades_sr=trades_sr*isactivenow"
   ]
  },
  {
   "cell_type": "markdown",
   "metadata": {},
   "source": [
    "#### Back Test"
   ]
  },
  {
   "cell_type": "code",
   "execution_count": 42,
   "metadata": {},
   "outputs": [],
   "source": [
    "back_weight=w+trades_sr\n",
    "raw_pnl=(back_weight*ret_act.reindex(index=alphablend.index)).sum(axis=1)\n",
    "TcostinEur=(tcost*trades_sr.abs()).sum(axis=1)\n",
    "pnl=(raw_pnl-TcostinEur).cumsum()\n",
    "booksize=back_weight.abs().sum(axis=1)\n",
    "tradesize=trades_sr.abs().sum(axis=1)"
   ]
  },
  {
   "cell_type": "code",
   "execution_count": 43,
   "metadata": {},
   "outputs": [],
   "source": [
    "trades_sr.to_csv('./trade.csv')\n",
    "back_weight.to_csv('./back_weight.csv')\n",
    "pnl.to_csv('./pnl.csv')\n",
    "booksize.to_csv('./booksize.csv')\n",
    "tradesize.to_csv('./tradesize.csv')"
   ]
  },
  {
   "cell_type": "markdown",
   "metadata": {},
   "source": [
    "#### Performance Summary"
   ]
  },
  {
   "cell_type": "code",
   "execution_count": 44,
   "metadata": {},
   "outputs": [],
   "source": [
    "#compute sharpe ratio,maxdd,and longest_dd\n",
    "rtn=pnl.diff()[1:]\n",
    "sharpe=(rtn.mean()/rtn.std())*np.sqrt(252)"
   ]
  },
  {
   "cell_type": "code",
   "execution_count": 45,
   "metadata": {},
   "outputs": [],
   "source": [
    "import performanceanalytics.table.table as pat\n",
    "DrawDoneTb=pat.drawdown_table(rtn, -.03)\n",
    "MaxDD=DrawDoneTb.Depth[1:].min()\n",
    "longest_dd=DrawDoneTb.iloc[DrawDoneTb.Length.argmax()].Depth "
   ]
  },
  {
   "cell_type": "code",
   "execution_count": 49,
   "metadata": {},
   "outputs": [
    {
     "data": {
      "text/plain": [
       "<matplotlib.axes._subplots.AxesSubplot at 0x7fea7dbaebb0>"
      ]
     },
     "execution_count": 49,
     "metadata": {},
     "output_type": "execute_result"
    },
    {
     "data": {
      "image/png": "[encoded data removed]",
      "text/plain": [
       "<Figure size 432x288 with 1 Axes>"
      ]
     },
     "metadata": {
      "needs_background": "light"
     },
     "output_type": "display_data"
    }
   ],
   "source": [
    "pnl.plot()"
   ]
  },
  {
   "cell_type": "code",
   "execution_count": 50,
   "metadata": {},
   "outputs": [
    {
     "data": {
      "text/plain": [
       "0.5606514444614201"
      ]
     },
     "execution_count": 50,
     "metadata": {},
     "output_type": "execute_result"
    }
   ],
   "source": [
    "sharpe"
   ]
  },
  {
   "cell_type": "code",
   "execution_count": null,
   "metadata": {},
   "outputs": [],
   "source": []
  }
 ],
 "metadata": {
  "kernelspec": {
   "display_name": "Python 3",
   "language": "python",
   "name": "python3"
  },
  "language_info": {
   "codemirror_mode": {
    "name": "ipython",
    "version": 3
   },
   "file_extension": ".py",
   "mimetype": "text/x-python",
   "name": "python",
   "nbconvert_exporter": "python",
   "pygments_lexer": "ipython3",
   "version": "3.8.3"
  }
 },
 "nbformat": 4,
 "nbformat_minor": 4
}
